{
  "nbformat": 4,
  "nbformat_minor": 0,
  "metadata": {
    "colab": {
      "name": "L2 Regularization.ipynb",
      "provenance": [],
      "mount_file_id": "1HisFTpWYMFU9ndeu16rzZ_o73yjchJhy",
      "authorship_tag": "ABX9TyNPbVSA2LiueK+Q3qgN5WR2"
    },
    "kernelspec": {
      "name": "python3",
      "display_name": "Python 3"
    }
  },
  "cells": [
    {
      "cell_type": "code",
      "metadata": {
        "id": "KIih8uRa2-3z",
        "colab_type": "code",
        "colab": {}
      },
      "source": [
        "import numpy as np\n",
        "import matplotlib.pyplot as plt\n",
        "from scipy.special import xlogy\n",
        "import scipy.io\n",
        "import h5py\n",
        "\n",
        "from sklearn.metrics import accuracy_score"
      ],
      "execution_count": 0,
      "outputs": []
    },
    {
      "cell_type": "code",
      "metadata": {
        "id": "dctpTbmuY8vc",
        "colab_type": "code",
        "colab": {}
      },
      "source": [
        "def relu(Z):\n",
        "\n",
        "  \"\"\"Applies relu function to an array/value\n",
        "\n",
        "    Arguments\n",
        "    ---------\n",
        "    Z: float/int/array_like\n",
        "      Original Value\n",
        "\n",
        "    Returns\n",
        "    -------\n",
        "    A: same shape as input\n",
        "      Value after applying relu function\n",
        "  \"\"\"\n",
        "  \n",
        "  return np.maximum(Z, 0)"
      ],
      "execution_count": 0,
      "outputs": []
    },
    {
      "cell_type": "code",
      "metadata": {
        "id": "AOVstqTPPo3j",
        "colab_type": "code",
        "colab": {}
      },
      "source": [
        "def relu_prime(Z):\n",
        "  \n",
        "  \"\"\"Applies differentiation of relu function to an array/value\n",
        "\n",
        "    Arguments\n",
        "    ---------\n",
        "    Z: float/int/array_like\n",
        "      Original Value\n",
        "\n",
        "    Returns\n",
        "    -------\n",
        "    A: same shape as input\n",
        "      Value after applying diff of relu function\n",
        "  \"\"\"\n",
        "\n",
        "  return (Z>0).astype(Z.dtype)"
      ],
      "execution_count": 0,
      "outputs": []
    },
    {
      "cell_type": "code",
      "metadata": {
        "id": "Sgjv4Fl2nzcp",
        "colab_type": "code",
        "colab": {}
      },
      "source": [
        "def sigmoid(Z):\n",
        "\n",
        "  \"\"\"Applies sigmoid function to an array/value\n",
        "\n",
        "    Arguments\n",
        "    ---------\n",
        "    Z: float/int/array_like\n",
        "      Original Value\n",
        "\n",
        "    Returns\n",
        "    -------\n",
        "    A: same shape as input\n",
        "      Value after applying sigmoid function\n",
        "  \"\"\"    \n",
        "  \n",
        "  return 1/(1+np.power(np.e, -Z))"
      ],
      "execution_count": 0,
      "outputs": []
    },
    {
      "cell_type": "code",
      "metadata": {
        "id": "h5hVTQHOozHZ",
        "colab_type": "code",
        "colab": {}
      },
      "source": [
        "def sigmoid_prime(Z):\n",
        "\n",
        "  \"\"\"Applies differentiation of sigmoid function to an array/value\n",
        "\n",
        "    Arguments\n",
        "    ---------\n",
        "    Z: float/int/array_like\n",
        "      Original Value\n",
        "\n",
        "    Returns\n",
        "    -------\n",
        "    A: same shape as input\n",
        "      Value after applying diff of sigmoid function\n",
        "  \"\"\"\n",
        "  \n",
        "  return Z * (1-Z)"
      ],
      "execution_count": 0,
      "outputs": []
    },
    {
      "cell_type": "code",
      "metadata": {
        "id": "fu74QjP0Oas7",
        "colab_type": "code",
        "colab": {}
      },
      "source": [
        "def leaky_relu(Z, alpha=0.01):\n",
        "\n",
        "  \"\"\"Applies leaky relu function to an array/value\n",
        "\n",
        "    Arguments\n",
        "    ---------\n",
        "    Z: float/int/array_like\n",
        "      Original Value\n",
        "    alpha: float\n",
        "      Negative slope coefficient\n",
        "\n",
        "    Returns\n",
        "    -------\n",
        "    A: same shape as input\n",
        "      Value after applying leaky relu function\n",
        "  \"\"\"   \n",
        "\n",
        "  return np.where(Z > 0, Z, Z * alpha)"
      ],
      "execution_count": 0,
      "outputs": []
    },
    {
      "cell_type": "code",
      "metadata": {
        "id": "ehhZLlf_N_RA",
        "colab_type": "code",
        "colab": {}
      },
      "source": [
        "def leaky_relu_prime(Z, alpha=0.01):\n",
        "\n",
        "  \"\"\"Applies differentiation of leaky relu function to an array/value\n",
        "\n",
        "    Arguments\n",
        "    ---------\n",
        "    Z: float/int/array_like\n",
        "      Original Value\n",
        "    alpha: float\n",
        "      Negative slope coefficient\n",
        "\n",
        "    Returns\n",
        "    -------\n",
        "    A: same shape as input\n",
        "      Value after applying diff of leaky relu function\n",
        "  \"\"\"\n",
        "\n",
        "  dz = np.ones_like(Z)\n",
        "  dz[Z < 0] = alpha\n",
        "  return dz"
      ],
      "execution_count": 0,
      "outputs": []
    },
    {
      "cell_type": "code",
      "metadata": {
        "id": "KDAdD7oWNEWs",
        "colab_type": "code",
        "colab": {}
      },
      "source": [
        "def tanh(Z):\n",
        "\n",
        "  \"\"\"Applies tanh function to an array/value\n",
        "\n",
        "    Arguments\n",
        "    ---------\n",
        "    Z: float/int/array_like\n",
        "      Original Value\n",
        "\n",
        "    Returns\n",
        "    -------\n",
        "    A: same shape as input\n",
        "      Value after applying tanh function\n",
        "  \"\"\"   \n",
        "\n",
        "  return np.tanh(Z)"
      ],
      "execution_count": 0,
      "outputs": []
    },
    {
      "cell_type": "code",
      "metadata": {
        "id": "gmRt1rYRNEiJ",
        "colab_type": "code",
        "colab": {}
      },
      "source": [
        "def tanh_prime(Z):\n",
        "  \n",
        "  \"\"\"Applies differentiation of tanh function to an array/value\n",
        "\n",
        "    Arguments\n",
        "    ---------\n",
        "    Z: float/int/array_like\n",
        "      Original Value\n",
        "\n",
        "    Returns\n",
        "    -------\n",
        "    A: same shape as input\n",
        "      Value after applying diff of tanh function\n",
        "  \"\"\"\n",
        "\n",
        "  return 1-(tanh(Z)**2)"
      ],
      "execution_count": 0,
      "outputs": []
    },
    {
      "cell_type": "code",
      "metadata": {
        "id": "0UXxjjGfILPI",
        "colab_type": "code",
        "colab": {}
      },
      "source": [
        "def get_activation_function(name):\n",
        "\n",
        "  \"\"\"Returns function corresponding to an activation name\n",
        "\n",
        "    Arguments\n",
        "    ---------\n",
        "    name: string\n",
        "      'relu', 'leaky_relu', 'tanh' or 'sigmoid' activation\n",
        "\n",
        "    Returns\n",
        "    -------\n",
        "    Corresponding activation function\n",
        "  \"\"\"\n",
        "\n",
        "  if name=='relu':\n",
        "    return relu\n",
        "  elif name=='sigmoid':\n",
        "    return sigmoid\n",
        "  elif name=='leaky_relu':\n",
        "    return leaky_relu\n",
        "  elif name=='tanh':\n",
        "    return tanh\n",
        "  else:\n",
        "    raise ValueError('Only \"relu\", \"leaky_relu\", \"tanh\" and \"sigmoid\" supported')"
      ],
      "execution_count": 0,
      "outputs": []
    },
    {
      "cell_type": "code",
      "metadata": {
        "id": "hCsMDDuEIZIX",
        "colab_type": "code",
        "colab": {}
      },
      "source": [
        "def get_derivative_activation_function(name):\n",
        "\n",
        "  \"\"\"Returns differentiation function corresponding to an activation name\n",
        "\n",
        "  Arguments\n",
        "  ---------\n",
        "  name: string\n",
        "    'relu', 'leaky_relu', 'tanh' or 'sigmoid' activation\n",
        "\n",
        "  Returns\n",
        "  -------\n",
        "  Corresponding diff of activation function\n",
        "  \"\"\"\n",
        "\n",
        "  if name=='relu':\n",
        "    return relu_prime\n",
        "  elif name=='sigmoid':\n",
        "    return sigmoid_prime\n",
        "  elif name=='leaky_relu':\n",
        "    return leaky_relu_prime\n",
        "  elif name=='tanh':\n",
        "    return tanh_prime\n",
        "  else:\n",
        "    raise ValueError('Only \"relu\", \"leaky_relu\", \"tanh\" and \"sigmoid\" supported')"
      ],
      "execution_count": 0,
      "outputs": []
    },
    {
      "cell_type": "code",
      "metadata": {
        "id": "CqXnbKuBPbAX",
        "colab_type": "code",
        "colab": {}
      },
      "source": [
        "def initialize_layer_weights(n_l_1, n_l, random_state=0):\n",
        "\n",
        "  \"\"\"Initializes random weights and bias for a layer l\n",
        "\n",
        "    Arguments\n",
        "    ---------\n",
        "    n_l_1: int\n",
        "      Number of neurons in previous layer (l-1)\n",
        "    n_l_1: int\n",
        "      Number of neurons in current layer (l)\n",
        "    random_state: int\n",
        "      Random seed\n",
        "\n",
        "    Returns\n",
        "    -------\n",
        "    dict\n",
        "      Contains the randomly initialized weights and bias arrays\n",
        "\n",
        "      The keys for weights and bias arrays in the dict are 'W1', 'b1', 'W2' and 'b2'\n",
        "  \"\"\"\n",
        "\n",
        "  np.random.seed(random_state)\n",
        "\n",
        "  wl = np.random.randn(n_l_1, n_l) / np.sqrt(n_l_1)\n",
        "  bl = np.random.randn(1, n_l)\n",
        "\n",
        "  return {'wl': wl, 'bl': bl}"
      ],
      "execution_count": 0,
      "outputs": []
    },
    {
      "cell_type": "code",
      "metadata": {
        "id": "MSenYu7mRw0u",
        "colab_type": "code",
        "colab": {}
      },
      "source": [
        "class Dense:\n",
        "  \n",
        "  \"\"\"Returns a dense layer with randomly initialized weights and bias\n",
        "\n",
        "    Arguments\n",
        "    ---------\n",
        "    input_dim: int\n",
        "      Number of neurons in previous layer.\n",
        "    units: int\n",
        "      Number of neurons in the layer.\n",
        "    activation: str\n",
        "      Activation function to use. 'relu', 'leaky_relu', 'tanh' or 'sigmoid'\n",
        "    random_state: int\n",
        "      Random seed\n",
        "\n",
        "    Returns\n",
        "    -------\n",
        "    Dense layer\n",
        "      An instance of the Dense layer initialized with random params.\n",
        "  \"\"\"\n",
        "\n",
        "  def __init__(self, input_dim, units, activation, random_state=0):\n",
        "\n",
        "    params = initialize_layer_weights(input_dim, units, random_state)\n",
        "\n",
        "    self.units = units\n",
        "    self.W = params['wl']\n",
        "    self.b = params['bl']\n",
        "    self.activation = activation\n",
        "    self.Z = None\n",
        "    self.A = None\n",
        "    self.dz = None\n",
        "    self.da = None\n",
        "    self.dw = None\n",
        "    self.db = None"
      ],
      "execution_count": 0,
      "outputs": []
    },
    {
      "cell_type": "code",
      "metadata": {
        "id": "9zYoAJIAU5In",
        "colab_type": "code",
        "colab": {}
      },
      "source": [
        "def forward_prop(X, model):\n",
        "  \n",
        "  \"\"\"Performs forward propagation and calculates output value\n",
        "\n",
        "    Arguments\n",
        "    ---------\n",
        "    X: array_like\n",
        "      Data\n",
        "    model: list\n",
        "      List containing the layers\n",
        "\n",
        "    Returns\n",
        "    -------\n",
        "    Model: list\n",
        "      List containing layers with updated 'Z' and 'A'\n",
        "  \"\"\"\n",
        "\n",
        "  for i in range(len(model)):\n",
        "\n",
        "    if i==0:\n",
        "      X_l_1 = X.copy()\n",
        "    else:\n",
        "      X_l_1 = model[i-1].A\n",
        "\n",
        "    model[i].Z = np.dot(X_l_1, model[i].W) + model[i].b\n",
        "    model[i].A = get_activation_function(model[i].activation)(model[i].Z)\n",
        "    \n",
        "  return model"
      ],
      "execution_count": 0,
      "outputs": []
    },
    {
      "cell_type": "code",
      "metadata": {
        "id": "qqX5PWcYgwjl",
        "colab_type": "code",
        "colab": {}
      },
      "source": [
        "def calculate_loss(y, model, l2_lambda=0):\n",
        "\n",
        "  \"\"\"Calculate the L2 regularization loss\n",
        "\n",
        "    Arguments\n",
        "    --------- \n",
        "    y: array-like\n",
        "      True lables\n",
        "    model: list\n",
        "      List containing the layers\n",
        "    l2_lambda: float\n",
        "      Lambda to use in L2 regularization\n",
        "\n",
        "    Returns\n",
        "    -------\n",
        "    loss: float\n",
        "      Entropy loss\n",
        "  \"\"\"\n",
        "\n",
        "  m = y.shape[0]\n",
        "  A = model[-1].A\n",
        "\n",
        "  cross_entropy_loss = np.squeeze(-(1./m)*np.nansum(np.multiply(y, np.log(A+1e-15))+np.multiply(np.log(1-A+1e-15), 1-y)))\n",
        "  regularization_cost = (l2_lambda/(2.*m)) * np.sum([np.sum(np.square(l.W)) for l in model])\n",
        "\n",
        "  return cross_entropy_loss +  regularization_cost"
      ],
      "execution_count": 0,
      "outputs": []
    },
    {
      "cell_type": "code",
      "metadata": {
        "id": "PmbQivksk2tY",
        "colab_type": "code",
        "colab": {}
      },
      "source": [
        "def backward_prop(X, y, model):\n",
        "\n",
        "  \"\"\"Performs backward propagation\n",
        "\n",
        "    Arguments\n",
        "    ---------\n",
        "    X: array_like\n",
        "      Data\n",
        "    y: array_like\n",
        "      True labels\n",
        "    model: list\n",
        "      List containing the layers\n",
        "\n",
        "    Returns\n",
        "    -------\n",
        "    model: list\n",
        "      List containing the layers with calculated 'dw' and 'db'\n",
        "  \"\"\"\n",
        "\n",
        "  m = X.shape[0]\n",
        "\n",
        "  for i in range(len(model)-1, -1, -1):\n",
        "\n",
        "    if i==len(model)-1:\n",
        "      model[i].dz = model[-1].A - y\n",
        "      model[i].dw = 1./m * np.dot(model[i-1].A.T, model[i].dz)\n",
        "      model[i].db = 1./m * np.sum(model[i].dz, axis=0, keepdims=True)\n",
        "\n",
        "      model[i-1].da = np.dot(model[i].dz, model[i].W.T)\n",
        "\n",
        "    else:\n",
        "\n",
        "      model[i].dz = np.multiply(np.int64(model[i].A>0), model[i].da) * get_derivative_activation_function(model[i].activation)(model[i].Z)\n",
        "\n",
        "      if i!=0:\n",
        "        model[i].dw = 1./m * np.dot(model[i-1].A.T, model[i].dz)\n",
        "      else:\n",
        "        model[i].dw = 1./m * np.dot(X.T, model[i].dz)\n",
        "      model[i].db = 1./m * np.sum(model[i].dz, axis=0, keepdims=True)\n",
        "      if i!=0:\n",
        "        model[i-1].da = np.dot(model[i].dz, model[i].W.T)\n",
        "\n",
        "  return model"
      ],
      "execution_count": 0,
      "outputs": []
    },
    {
      "cell_type": "code",
      "metadata": {
        "id": "PDjYMRRTsH5B",
        "colab_type": "code",
        "colab": {}
      },
      "source": [
        "def update_weights(model, X, l2_lambda=0, learning_rate=0.01):\n",
        "\n",
        "  \"\"\"Updates weights of the layers\n",
        "\n",
        "    Arguments\n",
        "    ---------\n",
        "    model: list\n",
        "      List containing the layers\n",
        "    X: array_like\n",
        "      Train Data\n",
        "    l2_lambda: float\n",
        "      Lambda to use in L2 regularization\n",
        "    learning_rate: int, float\n",
        "      Learning rate for the weight update\n",
        "\n",
        "    Returns\n",
        "    -------\n",
        "    model: list\n",
        "      List containing the layers\n",
        "  \"\"\"\n",
        "\n",
        "  m = X.shape[0]\n",
        "\n",
        "  for i in range(len(model)):\n",
        "    model[i].W -= learning_rate*(model[i].dw + (l2_lambda/m) * model[i].W)\n",
        "    model[i].b -= learning_rate*(model[i].db)\n",
        "    \n",
        "  return model"
      ],
      "execution_count": 0,
      "outputs": []
    },
    {
      "cell_type": "code",
      "metadata": {
        "id": "W3lz5jxHtxY3",
        "colab_type": "code",
        "colab": {}
      },
      "source": [
        "def predict(X, y, model):\n",
        "    \n",
        "  \"\"\"Using the learned parameters, predicts a class for each example in X\n",
        "  \n",
        "  Arguments\n",
        "  ---------\n",
        "  X: array_like\n",
        "    Data\n",
        "  y: array_like\n",
        "    True Labels\n",
        "  model: list\n",
        "    List containing the layers\n",
        "  \n",
        "  Returns\n",
        "  -------\n",
        "  predictions: array_like\n",
        "    Vector of predictions of our model\n",
        "  \"\"\"\n",
        "  \n",
        "  model1 = forward_prop(X, model.copy())\n",
        "  predictions = np.where(model1[-1].A > 0.5, 1, 0)\n",
        "  \n",
        "  return predictions"
      ],
      "execution_count": 0,
      "outputs": []
    },
    {
      "cell_type": "code",
      "metadata": {
        "id": "6oNiMR-Mzzi7",
        "colab_type": "code",
        "colab": {}
      },
      "source": [
        "def load_2D_dataset():\n",
        "\n",
        "  \"\"\"Loads a sample dataset\n",
        "    \n",
        "    Returns\n",
        "    ---------\n",
        "    X_train: array_like\n",
        "      Train Features\n",
        "    y_train: array_like\n",
        "      Train Labels\n",
        "    X_test: array_like\n",
        "      Test Features\n",
        "    y_test: array_like\n",
        "      Test Labels\n",
        "  \"\"\"\n",
        "\n",
        "  data = scipy.io.loadmat('datasets/data.mat')\n",
        "  X_train = data['X']\n",
        "  y_train = data['y']\n",
        "  X_test = data['Xval']\n",
        "  y_test = data['yval']\n",
        "\n",
        "  plt.scatter(X_train[:, 0], X_train[:, 1], c=y_train, s=40, cmap=plt.cm.Spectral);\n",
        "  \n",
        "  return X_train, y_train, X_test, y_test"
      ],
      "execution_count": 0,
      "outputs": []
    },
    {
      "cell_type": "code",
      "metadata": {
        "id": "-Fu0Kn3J28F3",
        "colab_type": "code",
        "colab": {}
      },
      "source": [
        "def plot_decision_boundary(model, X, y):\n",
        "\n",
        "  \"\"\"Plots decision boundary for a dataset and model\n",
        "  \n",
        "  Arguments\n",
        "  ---------\n",
        "  model: function\n",
        "    Function for getting predictions\n",
        "  X: array_like\n",
        "    Data\n",
        "  y: array_like\n",
        "    True Labels\n",
        "  \"\"\"\n",
        "\n",
        "  # Set min and max values and give it some padding\n",
        "  x_min, x_max = X[:, 0].min() - 0.25, X[:, 0].max() + 0.25\n",
        "  y_min, y_max = X[:, 1].min() - 0.25, X[:, 1].max() + 0.25\n",
        "  h = 0.01\n",
        "  \n",
        "  # Generate a grid of points with distance h between them\n",
        "  xx, yy = np.meshgrid(np.arange(x_min, x_max, h), np.arange(y_min, y_max, h))\n",
        "  \n",
        "  # Predict the function value for the whole grid\n",
        "  Z = predict(np.c_[xx.ravel(), yy.ravel()], y_train, model)\n",
        "  Z = Z.reshape(xx.shape)\n",
        "  \n",
        "  # Plot the contour and training examples\n",
        "  plt.contourf(xx, yy, Z, cmap=plt.cm.Spectral)\n",
        "  plt.ylabel('x2')\n",
        "  plt.xlabel('x1')\n",
        "  plt.scatter(X[:, 0], X[:, 1], c=y, cmap=plt.cm.Spectral)"
      ],
      "execution_count": 0,
      "outputs": []
    },
    {
      "cell_type": "code",
      "metadata": {
        "id": "Dnx4FmaD9F9b",
        "colab_type": "code",
        "colab": {}
      },
      "source": [
        "def make_model(X_train, y_train, random_state):\n",
        "\n",
        "  \"\"\"Initializes and returns a model\n",
        "  \n",
        "  Arguments\n",
        "  ---------\n",
        "  X_train: array_like\n",
        "    Train Features\n",
        "  y_train: array_like\n",
        "    Train Labels\n",
        "  random_state: int\n",
        "    Random seed\n",
        "  \"\"\"  \n",
        "\n",
        "  model = []\n",
        "  model.append(Dense(input_dim = X_train.shape[1], units=20, activation='relu', random_state=random_state))\n",
        "  model.append(Dense(input_dim = 20, units=10, activation='relu', random_state=random_state))\n",
        "  model.append(Dense(input_dim = 10, units=y_train.shape[1], activation='sigmoid', random_state=random_state))\n",
        "\n",
        "  return model"
      ],
      "execution_count": 0,
      "outputs": []
    },
    {
      "cell_type": "code",
      "metadata": {
        "id": "BfbKMqXt2V5K",
        "colab_type": "code",
        "outputId": "cfff9c95-e075-4f34-91b6-088c7a16abec",
        "colab": {
          "base_uri": "https://localhost:8080/",
          "height": 336
        }
      },
      "source": [
        "X_train, y_train, X_test, y_test = load_2D_dataset()\n",
        "\n",
        "print('X_train', X_train.shape)\n",
        "print('y_train', y_train.shape)\n",
        "print('X_test', X_test.shape)\n",
        "print('y_test', y_test.shape)"
      ],
      "execution_count": 22,
      "outputs": [
        {
          "output_type": "stream",
          "text": [
            "X_train (211, 2)\n",
            "y_train (211, 1)\n",
            "X_test (200, 2)\n",
            "y_test (200, 1)\n"
          ],
          "name": "stdout"
        },
        {
          "output_type": "display_data",
          "data": {
            "image/png": "[encoded data removed]",
            "text/plain": [
              "<Figure size 432x288 with 1 Axes>"
            ]
          },
          "metadata": {
            "tags": [],
            "needs_background": "light"
          }
        }
      ]
    },
    {
      "cell_type": "markdown",
      "metadata": {
        "id": "nc4hh1kcnUN2",
        "colab_type": "text"
      },
      "source": [
        "### Without Regularization"
      ]
    },
    {
      "cell_type": "markdown",
      "metadata": {
        "id": "bGvv4vBwnJKR",
        "colab_type": "text"
      },
      "source": [
        "Large NN architecture to make it overfit"
      ]
    },
    {
      "cell_type": "code",
      "metadata": {
        "id": "azYPeMT8apak",
        "colab_type": "code",
        "colab": {}
      },
      "source": [
        "random_state = 42\n",
        "epochs = 50000\n",
        "learning_rate = 0.3\n",
        "l2_lambda = 0\n",
        "\n",
        "model = make_model(X_train, y_train, random_state)"
      ],
      "execution_count": 0,
      "outputs": []
    },
    {
      "cell_type": "code",
      "metadata": {
        "id": "N1nRMqVqtQln",
        "colab_type": "code",
        "outputId": "1170f424-8cc6-412c-c9d3-817b40c3d063",
        "colab": {
          "base_uri": "https://localhost:8080/",
          "height": 195
        }
      },
      "source": [
        "history = []\n",
        "for i in range(epochs):\n",
        "  model = forward_prop(X_train, model)\n",
        "  loss = calculate_loss(y_train, model, l2_lambda)\n",
        "  history.append(loss)\n",
        "  model = backward_prop(X_train, y_train, model)\n",
        "  model = update_weights(model, X_train, l2_lambda, learning_rate)\n",
        "\n",
        "  if i%(epochs/10)==0:\n",
        "    print('Epoch: {}\\tLoss: {:.6f}\\tTrain Accuracy: {:.3f}\\tTest Accuracy: {:.3f}'.format(i, loss, accuracy_score(y_train, predict(X_train, y_train, model)), accuracy_score(y_test, predict(X_test, y_test, model))))"
      ],
      "execution_count": 24,
      "outputs": [
        {
          "output_type": "stream",
          "text": [
            "Epoch: 0\tLoss: 0.907996\tTrain Accuracy: 0.498\tTest Accuracy: 0.545\n",
            "Epoch: 5000\tLoss: 0.194347\tTrain Accuracy: 0.934\tTest Accuracy: 0.930\n",
            "Epoch: 10000\tLoss: 0.186920\tTrain Accuracy: 0.924\tTest Accuracy: 0.930\n",
            "Epoch: 15000\tLoss: 0.177601\tTrain Accuracy: 0.934\tTest Accuracy: 0.930\n",
            "Epoch: 20000\tLoss: 0.167569\tTrain Accuracy: 0.934\tTest Accuracy: 0.940\n",
            "Epoch: 25000\tLoss: 0.164721\tTrain Accuracy: 0.929\tTest Accuracy: 0.935\n",
            "Epoch: 30000\tLoss: 0.153289\tTrain Accuracy: 0.943\tTest Accuracy: 0.950\n",
            "Epoch: 35000\tLoss: 0.150506\tTrain Accuracy: 0.943\tTest Accuracy: 0.950\n",
            "Epoch: 40000\tLoss: 0.151550\tTrain Accuracy: 0.943\tTest Accuracy: 0.950\n",
            "Epoch: 45000\tLoss: 0.147485\tTrain Accuracy: 0.924\tTest Accuracy: 0.940\n"
          ],
          "name": "stdout"
        }
      ]
    },
    {
      "cell_type": "code",
      "metadata": {
        "id": "sQd4kMZu3QlC",
        "colab_type": "code",
        "outputId": "8d42b376-5043-40dd-ee7c-8671f1d0a821",
        "colab": {
          "base_uri": "https://localhost:8080/",
          "height": 281
        }
      },
      "source": [
        "plot_decision_boundary(model, X_train, y_train)"
      ],
      "execution_count": 25,
      "outputs": [
        {
          "output_type": "display_data",
          "data": {
            "image/png": "[encoded data removed]",
            "text/plain": [
              "<Figure size 432x288 with 1 Axes>"
            ]
          },
          "metadata": {
            "tags": [],
            "needs_background": "light"
          }
        }
      ]
    },
    {
      "cell_type": "code",
      "metadata": {
        "id": "-nxSGPDv20XK",
        "colab_type": "code",
        "outputId": "b84d1115-699f-4d70-af6e-49daf89960c1",
        "colab": {
          "base_uri": "https://localhost:8080/",
          "height": 283
        }
      },
      "source": [
        "plt.plot(history)"
      ],
      "execution_count": 26,
      "outputs": [
        {
          "output_type": "execute_result",
          "data": {
            "text/plain": [
              "[<matplotlib.lines.Line2D at 0x7ff7dcab6710>]"
            ]
          },
          "metadata": {
            "tags": []
          },
          "execution_count": 26
        },
        {
          "output_type": "display_data",
          "data": {
            "image/png": "[encoded data removed]",
            "text/plain": [
              "<Figure size 432x288 with 1 Axes>"
            ]
          },
          "metadata": {
            "tags": [],
            "needs_background": "light"
          }
        }
      ]
    },
    {
      "cell_type": "markdown",
      "metadata": {
        "id": "pSpXGRrnnbkU",
        "colab_type": "text"
      },
      "source": [
        "### With Regularization"
      ]
    },
    {
      "cell_type": "markdown",
      "metadata": {
        "id": "Vljax_z7nOHT",
        "colab_type": "text"
      },
      "source": [
        "Same architecture and same number of epochs for comparison"
      ]
    },
    {
      "cell_type": "code",
      "metadata": {
        "id": "kq79eJyg9vBk",
        "colab_type": "code",
        "colab": {}
      },
      "source": [
        "l2_lambda = 0.7\n",
        "\n",
        "model = make_model(X_train, y_train, random_state)"
      ],
      "execution_count": 0,
      "outputs": []
    },
    {
      "cell_type": "code",
      "metadata": {
        "id": "3vSTBxuv9nHs",
        "colab_type": "code",
        "outputId": "2fa8870f-1c98-4652-89d7-d528e27ee03b",
        "colab": {
          "base_uri": "https://localhost:8080/",
          "height": 195
        }
      },
      "source": [
        "history = []\n",
        "for i in range(epochs):\n",
        "  model = forward_prop(X_train, model)\n",
        "  loss = calculate_loss(y_train, model, l2_lambda)\n",
        "  history.append(loss)\n",
        "  model = backward_prop(X_train, y_train, model)\n",
        "  model = update_weights(model, X_train, l2_lambda, learning_rate)\n",
        "\n",
        "  if i%(epochs/10)==0:\n",
        "    print('Epoch: {}\\tLoss: {:.6f}\\tTrain Accuracy: {:.3f}\\tTest Accuracy: {:.3f}'.format(i, loss, accuracy_score(y_train, predict(X_train, y_train, model)), accuracy_score(y_test, predict(X_test, y_test, model))))"
      ],
      "execution_count": 28,
      "outputs": [
        {
          "output_type": "stream",
          "text": [
            "Epoch: 0\tLoss: 0.954393\tTrain Accuracy: 0.498\tTest Accuracy: 0.545\n",
            "Epoch: 5000\tLoss: 0.270515\tTrain Accuracy: 0.924\tTest Accuracy: 0.930\n",
            "Epoch: 10000\tLoss: 0.270044\tTrain Accuracy: 0.924\tTest Accuracy: 0.930\n",
            "Epoch: 15000\tLoss: 0.269819\tTrain Accuracy: 0.924\tTest Accuracy: 0.930\n",
            "Epoch: 20000\tLoss: 0.269725\tTrain Accuracy: 0.924\tTest Accuracy: 0.930\n",
            "Epoch: 25000\tLoss: 0.269674\tTrain Accuracy: 0.924\tTest Accuracy: 0.930\n",
            "Epoch: 30000\tLoss: 0.269644\tTrain Accuracy: 0.924\tTest Accuracy: 0.930\n",
            "Epoch: 35000\tLoss: 0.269619\tTrain Accuracy: 0.924\tTest Accuracy: 0.930\n",
            "Epoch: 40000\tLoss: 0.269613\tTrain Accuracy: 0.924\tTest Accuracy: 0.930\n",
            "Epoch: 45000\tLoss: 0.269597\tTrain Accuracy: 0.924\tTest Accuracy: 0.930\n"
          ],
          "name": "stdout"
        }
      ]
    },
    {
      "cell_type": "code",
      "metadata": {
        "id": "gaGdiDWY9v0f",
        "colab_type": "code",
        "outputId": "89cdbc55-35a2-4ffd-9d51-55437feac8e9",
        "colab": {
          "base_uri": "https://localhost:8080/",
          "height": 281
        }
      },
      "source": [
        "plot_decision_boundary(model, X_train, y_train)"
      ],
      "execution_count": 29,
      "outputs": [
        {
          "output_type": "display_data",
          "data": {
            "image/png": "[encoded data removed]",
            "text/plain": [
              "<Figure size 432x288 with 1 Axes>"
            ]
          },
          "metadata": {
            "tags": [],
            "needs_background": "light"
          }
        }
      ]
    },
    {
      "cell_type": "code",
      "metadata": {
        "id": "QGj5FIL59zt7",
        "colab_type": "code",
        "outputId": "a3887419-90ce-418e-9c9f-9060845e0f0e",
        "colab": {
          "base_uri": "https://localhost:8080/",
          "height": 283
        }
      },
      "source": [
        "plt.plot(history)"
      ],
      "execution_count": 30,
      "outputs": [
        {
          "output_type": "execute_result",
          "data": {
            "text/plain": [
              "[<matplotlib.lines.Line2D at 0x7ff7dca20fd0>]"
            ]
          },
          "metadata": {
            "tags": []
          },
          "execution_count": 30
        },
        {
          "output_type": "display_data",
          "data": {
            "image/png": "[encoded data removed]",
            "text/plain": [
              "<Figure size 432x288 with 1 Axes>"
            ]
          },
          "metadata": {
            "tags": [],
            "needs_background": "light"
          }
        }
      ]
    }
  ]
}