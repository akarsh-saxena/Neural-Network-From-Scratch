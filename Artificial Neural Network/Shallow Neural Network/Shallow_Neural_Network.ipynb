{
  "nbformat": 4,
  "nbformat_minor": 0,
  "metadata": {
    "colab": {
      "name": "Shallow Neural Network.ipynb",
      "provenance": [],
      "collapsed_sections": [],
      "machine_shape": "hm"
    },
    "kernelspec": {
      "name": "python3",
      "display_name": "Python 3"
    }
  },
  "cells": [
    {
      "cell_type": "code",
      "metadata": {
        "id": "NoHhKacsoEpc",
        "colab_type": "code",
        "colab": {}
      },
      "source": [
        "import numpy as np\n",
        "from scipy.special import xlogy\n",
        "import pandas as pd\n",
        "import matplotlib.pyplot as plt\n",
        "\n",
        "from sklearn.metrics import accuracy_score\n",
        "from sklearn.datasets import make_moons\n",
        "from sklearn.model_selection import train_test_split"
      ],
      "execution_count": 0,
      "outputs": []
    },
    {
      "cell_type": "code",
      "metadata": {
        "id": "Sgjv4Fl2nzcp",
        "colab_type": "code",
        "colab": {}
      },
      "source": [
        "def relu(Z):\n",
        "\n",
        "  \"\"\"Applies relu function to an array/value\n",
        "\n",
        "    Arguments\n",
        "    ---------\n",
        "    Z: float/int/array_like\n",
        "      Original Value\n",
        "\n",
        "    Returns\n",
        "    -------\n",
        "    A: same shape as input\n",
        "      Value after applying relu function\n",
        "  \"\"\"\n",
        "  \n",
        "  return np.maximum(Z, 0)"
      ],
      "execution_count": 0,
      "outputs": []
    },
    {
      "cell_type": "code",
      "metadata": {
        "id": "h5hVTQHOozHZ",
        "colab_type": "code",
        "colab": {}
      },
      "source": [
        "def relu_prime(Z):\n",
        "  \n",
        "  \"\"\"Applies differentiation of relu function to an array/value\n",
        "\n",
        "    Arguments\n",
        "    ---------\n",
        "    Z: float/int/array_like\n",
        "      Original Value\n",
        "\n",
        "    Returns\n",
        "    -------\n",
        "    A: same shape as input\n",
        "      Value after applying diff of relu function\n",
        "  \"\"\"\n",
        "\n",
        "  return (Z>0).astype(Z.dtype)"
      ],
      "execution_count": 0,
      "outputs": []
    },
    {
      "cell_type": "code",
      "metadata": {
        "id": "IgIQCPTo6zUz",
        "colab_type": "code",
        "colab": {}
      },
      "source": [
        "def sigmoid(Z):\n",
        "\n",
        "  \"\"\"Applies sigmoid function to an array/value\n",
        "\n",
        "    Arguments\n",
        "    ---------\n",
        "    Z: float/int/array_like\n",
        "      Original Value\n",
        "\n",
        "    Returns\n",
        "    -------\n",
        "    A: same shape as input\n",
        "      Value after applying sigmoid function\n",
        "  \"\"\"    \n",
        "  \n",
        "  return 1/(1+np.power(np.e, -Z))"
      ],
      "execution_count": 0,
      "outputs": []
    },
    {
      "cell_type": "code",
      "metadata": {
        "id": "4v3HglRMPZN8",
        "colab_type": "code",
        "colab": {}
      },
      "source": [
        "def sigmoid_prime(Z):\n",
        "\n",
        "  \"\"\"Applies differentiation of sigmoid function to an array/value\n",
        "\n",
        "    Arguments\n",
        "    ---------\n",
        "    Z: float/int/array_like\n",
        "      Original Value\n",
        "\n",
        "    Returns\n",
        "    -------\n",
        "    A: same shape as input\n",
        "      Value after applying diff of sigmoid function\n",
        "  \"\"\"\n",
        "  \n",
        "  return (1-np.power(Z, 2))"
      ],
      "execution_count": 0,
      "outputs": []
    },
    {
      "cell_type": "code",
      "metadata": {
        "id": "zP00XfkY5ekD",
        "colab_type": "code",
        "colab": {}
      },
      "source": [
        "def leaky_relu(Z, alpha=0.01):\n",
        "\n",
        "  \"\"\"Applies leaky relu function to an array/value\n",
        "\n",
        "    Arguments\n",
        "    ---------\n",
        "    Z: float/int/array_like\n",
        "      Original Value\n",
        "    alpha: float\n",
        "      Negative slope coefficient\n",
        "\n",
        "    Returns\n",
        "    -------\n",
        "    A: same shape as input\n",
        "      Value after applying leaky relu function\n",
        "  \"\"\"   \n",
        "\n",
        "  return np.where(Z > 0, Z, Z * alpha)"
      ],
      "execution_count": 0,
      "outputs": []
    },
    {
      "cell_type": "code",
      "metadata": {
        "id": "44M0moTO5kOi",
        "colab_type": "code",
        "colab": {}
      },
      "source": [
        "def leaky_relu_prime(Z, alpha=0.01):\n",
        "\n",
        "  \"\"\"Applies differentiation of leaky relu function to an array/value\n",
        "\n",
        "    Arguments\n",
        "    ---------\n",
        "    Z: float/int/array_like\n",
        "      Original Value\n",
        "    alpha: float\n",
        "      Negative slope coefficient\n",
        "\n",
        "    Returns\n",
        "    -------\n",
        "    A: same shape as input\n",
        "      Value after applying diff of leaky relu function\n",
        "  \"\"\"\n",
        "\n",
        "  dz = np.ones_like(Z)\n",
        "  dz[Z < 0] = alpha\n",
        "  return dz"
      ],
      "execution_count": 0,
      "outputs": []
    },
    {
      "cell_type": "code",
      "metadata": {
        "id": "B4vv9AKerkzi",
        "colab_type": "code",
        "colab": {}
      },
      "source": [
        "def tanh(Z):\n",
        "\n",
        "  \"\"\"Applies tanh function to an array/value\n",
        "\n",
        "    Arguments\n",
        "    ---------\n",
        "    Z: float/int/array_like\n",
        "      Original Value\n",
        "\n",
        "    Returns\n",
        "    -------\n",
        "    A: same shape as input\n",
        "      Value after applying tanh function\n",
        "  \"\"\"   \n",
        "\n",
        "  return np.tanh(Z)"
      ],
      "execution_count": 0,
      "outputs": []
    },
    {
      "cell_type": "code",
      "metadata": {
        "id": "848oB17ar4tv",
        "colab_type": "code",
        "colab": {}
      },
      "source": [
        "def tanh_prime(Z):\n",
        "  \n",
        "  \"\"\"Applies differentiation of tanh function to an array/value\n",
        "\n",
        "    Arguments\n",
        "    ---------\n",
        "    Z: float/int/array_like\n",
        "      Original Value\n",
        "\n",
        "    Returns\n",
        "    -------\n",
        "    A: same shape as input\n",
        "      Value after applying diff of tanh function\n",
        "  \"\"\"\n",
        "\n",
        "  return 1-(tanh(Z)**2)"
      ],
      "execution_count": 0,
      "outputs": []
    },
    {
      "cell_type": "code",
      "metadata": {
        "id": "HO4l61UZNPjw",
        "colab_type": "code",
        "colab": {}
      },
      "source": [
        "def get_activation_function(name):\n",
        "\n",
        "  \"\"\"Returns function corresponding to an activation name\n",
        "\n",
        "    Arguments\n",
        "    ---------\n",
        "    name: string\n",
        "      'relu', 'leaky_relu', 'tanh' or 'sigmoid' activation\n",
        "\n",
        "    Returns\n",
        "    -------\n",
        "    Corresponding activation function\n",
        "  \"\"\"\n",
        "\n",
        "  if name=='relu':\n",
        "    return relu\n",
        "  elif name=='sigmoid':\n",
        "    return sigmoid\n",
        "  elif name=='leaky_relu':\n",
        "    return leaky_relu\n",
        "  elif name=='tanh':\n",
        "    return tanh\n",
        "  else:\n",
        "    raise ValueError('Only \"relu\", \"leaky_relu\", \"tanh\" and \"sigmoid\" supported')"
      ],
      "execution_count": 0,
      "outputs": []
    },
    {
      "cell_type": "code",
      "metadata": {
        "id": "IY5LfJZMO5qA",
        "colab_type": "code",
        "colab": {}
      },
      "source": [
        "def get_derivative_activation_function(name):\n",
        "\n",
        "  \"\"\"Returns differentiation function corresponding to an activation name\n",
        "\n",
        "  Arguments\n",
        "  ---------\n",
        "  name: string\n",
        "    'relu', 'leaky_relu', 'tanh' or 'sigmoid' activation\n",
        "\n",
        "  Returns\n",
        "  -------\n",
        "  Corresponding diff of activation function\n",
        "  \"\"\"\n",
        "\n",
        "  if name=='relu':\n",
        "    return relu_prime\n",
        "  elif name=='sigmoid':\n",
        "    return sigmoid_prime\n",
        "  elif name=='leaky_relu':\n",
        "    return leaky_relu_prime\n",
        "  elif name=='tanh':\n",
        "    return tanh_prime\n",
        "  else:\n",
        "    raise ValueError('Only \"relu\", \"leaky_relu\", \"tanh\" and \"sigmoid\" supported')"
      ],
      "execution_count": 0,
      "outputs": []
    },
    {
      "cell_type": "code",
      "metadata": {
        "id": "2ucJIk8HtZP_",
        "colab_type": "code",
        "colab": {}
      },
      "source": [
        "def initialize_nn(X, y, hidden_nodes=4, random_state=None):\n",
        "\n",
        "  \"\"\"Initializes random weights and bias\n",
        "\n",
        "  Arguments\n",
        "  ---------\n",
        "  X: array-like\n",
        "    Train Features\n",
        "  y: array-like\n",
        "    Train Labels\n",
        "  hidden_nodes: int\n",
        "    Number of nodes in hidden layer\n",
        "  random_state: int\n",
        "    Random seed\n",
        "\n",
        "  Returns\n",
        "  -------\n",
        "  dict\n",
        "    Contains the randomly initialized weights and bias arrays\n",
        "\n",
        "    The keys for weights and bias arrays in the dict are 'W1', 'b1', 'W2' and 'b2'\n",
        "  \"\"\"\n",
        "\n",
        "  if random_state != None:\n",
        "    np.random.seed(random_state)\n",
        "\n",
        "  n_x = X.shape[1]\n",
        "  n_h = hidden_nodes\n",
        "  n_y = y.shape[1]\n",
        "\n",
        "  W1 = np.random.randn(n_x, n_h)# * np.sqrt(1./n_h)\n",
        "  b1 = np.zeros((1, n_h))\n",
        "  W2 = np.random.randn(n_h, n_y)# * np.sqrt(1./n_y)\n",
        "  b2 = np.zeros((1, n_y))\n",
        "\n",
        "  params = {\n",
        "      'W1' : W1,\n",
        "      'b1' : b1,\n",
        "      'W2' : W2,\n",
        "      'b2' : b2\n",
        "  }\n",
        "\n",
        "  return params"
      ],
      "execution_count": 0,
      "outputs": []
    },
    {
      "cell_type": "code",
      "metadata": {
        "id": "6srF1C1O4FdR",
        "colab_type": "code",
        "colab": {}
      },
      "source": [
        "def forward_prop(X, nn_params, activation='relu'):\n",
        "\n",
        "  \"\"\"Performs forward propagation and calculates output value\n",
        "\n",
        "    Arguments\n",
        "    ---------\n",
        "    X: array_like\n",
        "      Data\n",
        "    nn_params: dictionary\n",
        "      Parameter dict contaning weights and biases\n",
        "    activation: string\n",
        "      'relu' or 'tanh' activation\n",
        "\n",
        "    Returns\n",
        "    -------\n",
        "    dict\n",
        "      Dictionary contaning Z's and A's\n",
        "  \"\"\"\n",
        "\n",
        "  W1 = nn_params['W1']\n",
        "  b1 = nn_params['b1']\n",
        "  W2 = nn_params['W2']\n",
        "  b2 = nn_params['b2']\n",
        "\n",
        "  Z1 = np.dot(X, W1) + b1    # X.W1+b1 because we have taken rows as a record and columns as features\n",
        "\n",
        "  A1 = get_activation_function(activation)(Z1)\n",
        "\n",
        "  Z2 = np.dot(A1, W2) + b2\n",
        "  A2 = get_activation_function('sigmoid')(Z2)\n",
        "\n",
        "  result = {\n",
        "      'Z1': Z1,\n",
        "      'A1': A1,\n",
        "      'Z2': Z2,\n",
        "      'A2': A2\n",
        "  }\n",
        "\n",
        "  return result"
      ],
      "execution_count": 0,
      "outputs": []
    },
    {
      "cell_type": "code",
      "metadata": {
        "id": "JVJ6--pBHpNQ",
        "colab_type": "code",
        "colab": {}
      },
      "source": [
        "def calculate_loss(A2, y):\n",
        "\n",
        "  \"\"\"Calculate the entropy loss\n",
        "\n",
        "    Arguments\n",
        "    ---------\n",
        "    A2: array_like\n",
        "      Output of the last layer \n",
        "    y: array-like\n",
        "      True lables\n",
        "\n",
        "    Returns\n",
        "    -------\n",
        "    loss: float\n",
        "      Entropy loss\n",
        "  \"\"\"\n",
        "\n",
        "  m = y.shape[0]\n",
        "  return np.squeeze(-(1./m)*np.sum(np.multiply(y, np.log(A2))+np.multiply(np.log(1-A2), 1-y)))     # Squeeze will convert [[cost]] to 'cost' float variable"
      ],
      "execution_count": 0,
      "outputs": []
    },
    {
      "cell_type": "code",
      "metadata": {
        "id": "DMii8LFr7SyT",
        "colab_type": "code",
        "colab": {}
      },
      "source": [
        "def backward_prop(X, y, nn_params, cache, learning_rate=0.001, activation='relu'):\n",
        "  \n",
        "  \"\"\"Performs forward propagation and calculates output value for a layer\n",
        "\n",
        "    Arguments\n",
        "    ---------\n",
        "    X: array_like\n",
        "      Data\n",
        "    y: array_like\n",
        "      True labels\n",
        "    cache: dictionary\n",
        "      Dictionary containing 'z' and 'a'\n",
        "\n",
        "    Returns\n",
        "    -------\n",
        "    dict\n",
        "      Dictionary containing gradients 'dz', 'dw' and 'db'\n",
        "  \"\"\"\n",
        "\n",
        "  W1 = nn_params['W1']\n",
        "  b1 = nn_params['b1']\n",
        "  W2 = nn_params['W2']\n",
        "  b2 = nn_params['b2']\n",
        "\n",
        "  Z1 = cache['Z1']\n",
        "  A1 = cache['A1']\n",
        "  Z2 = cache['Z2']\n",
        "  A2 = cache['A2']\n",
        "\n",
        "  m = X.shape[0]\n",
        "\n",
        "  dz2 = A2 - y\n",
        "  dw2 = (1./m)*np.dot(A1.T, dz2)\n",
        "  db2 = (1./m)*np.sum(dz2, axis=0, keepdims=True)\n",
        "\n",
        "  dz1 = np.dot(dz2, W2.T) * get_derivative_activation_function(activation)(A1)\n",
        "\n",
        "  dw1 = (1./m)*np.dot(X.T, dz1)\n",
        "  db1 = (1./m)*np.sum(dz1, axis=0, keepdims=True)\n",
        "\n",
        "  updates = {\n",
        "    'dw1': dw1,\n",
        "    'db1': db1,\n",
        "    'dw2': dw2,\n",
        "    'db2': db2\n",
        "  }\n",
        "\n",
        "  return updates"
      ],
      "execution_count": 0,
      "outputs": []
    },
    {
      "cell_type": "code",
      "metadata": {
        "id": "MtlrCngkx5n7",
        "colab_type": "code",
        "colab": {}
      },
      "source": [
        "def update_weights(nn_params, updates, learning_rate=0.01):\n",
        "\n",
        "  \"\"\"Performs forward propagation and calculates output value for a layer\n",
        "\n",
        "    Arguments\n",
        "    ---------\n",
        "    nn_params: dict\n",
        "      Dictionary containing weights and biases\n",
        "    updates: dict\n",
        "      Dictionary containing 'dw' and 'db'\n",
        "    learning_rate: int, float\n",
        "      Learning rate for the weight update\n",
        "\n",
        "    Returns\n",
        "    -------\n",
        "    dict\n",
        "      Dictionary containing updated weights and biases\n",
        "\n",
        "      The keys for weights and bias arrays in the dict are 'W1', 'b1', 'W2' and 'b2'\n",
        "  \"\"\"\n",
        "\n",
        "  W1 = nn_params['W1']\n",
        "  b1 = nn_params['b1']\n",
        "  W2 = nn_params['W2']\n",
        "  b2 = nn_params['b2']\n",
        "\n",
        "  dw1 = updates['dw1']\n",
        "  db1 = updates['db1']\n",
        "  dw2 = updates['dw2']\n",
        "  db2 = updates['db2']\n",
        "\n",
        "  W1 = W1 - learning_rate*dw1\n",
        "  b1 = b1 - learning_rate*db1\n",
        "  W2 = W2 - learning_rate*dw2\n",
        "  b2 = b2 - learning_rate*db2\n",
        "\n",
        "  final_result = {\n",
        "      'W1': W1,\n",
        "      'b1': b1,\n",
        "      'W2': W2,\n",
        "      'b2': b2\n",
        "  }\n",
        "\n",
        "  return final_result"
      ],
      "execution_count": 0,
      "outputs": []
    },
    {
      "cell_type": "code",
      "metadata": {
        "id": "NfxWKg4ecz6C",
        "colab_type": "code",
        "colab": {}
      },
      "source": [
        "def predict(parameters, X, y):\n",
        "\n",
        "    \"\"\"\n",
        "    Using the learned parameters, predicts a class for each example in X\n",
        "    \n",
        "    Arguments\n",
        "    ---------\n",
        "    parameters: dict\n",
        "      Dictionary containing weights and biases\n",
        "    X: array_like\n",
        "      Data\n",
        "    y: array_like\n",
        "      True Labels\n",
        "    \n",
        "    Returns\n",
        "    -------\n",
        "    predictions: array_like\n",
        "      Vector of predictions of our model\n",
        "    \"\"\"\n",
        "    \n",
        "    cache = forward_prop(X, parameters, 'relu')\n",
        "    predictions = cache['A2'] > 0.5\n",
        "    \n",
        "    return predictions"
      ],
      "execution_count": 0,
      "outputs": []
    },
    {
      "cell_type": "code",
      "metadata": {
        "id": "wwxOM8sgFVsb",
        "colab_type": "code",
        "colab": {}
      },
      "source": [
        "def plot_decision_boundary(model, X, y):\n",
        "\n",
        "    \"\"\"\n",
        "    Plots decision boundary for a dataset and model\n",
        "    \n",
        "    Arguments\n",
        "    ---------\n",
        "    model: function\n",
        "      Function for getting predictions\n",
        "    X: array_like\n",
        "      Data\n",
        "    y: array_like\n",
        "      True Labels\n",
        "    \"\"\"\n",
        "\n",
        "    # Set min and max values and give it some padding\n",
        "    x_min, x_max = X[0, :].min() - 1, X[0, :].max() + 1\n",
        "    y_min, y_max = X[1, :].min() - 1, X[1, :].max() + 1\n",
        "    h = 0.01\n",
        "    # Generate a grid of points with distance h between them\n",
        "    xx, yy = np.meshgrid(np.arange(x_min, x_max, h), np.arange(y_min, y_max, h))\n",
        "    # Predict the function value for the whole grid\n",
        "    Z = model(np.c_[xx.ravel(), yy.ravel()])\n",
        "    Z = Z.reshape(xx.shape)\n",
        "    # Plot the contour and training examples\n",
        "    plt.contourf(xx, yy, Z, cmap=plt.cm.Spectral)\n",
        "    plt.ylabel('x2')\n",
        "    plt.xlabel('x1')\n",
        "    plt.scatter(X[0, :], X[1, :], c=y, cmap=plt.cm.Spectral)"
      ],
      "execution_count": 0,
      "outputs": []
    },
    {
      "cell_type": "code",
      "metadata": {
        "id": "KhBwZcZIB_pd",
        "colab_type": "code",
        "colab": {}
      },
      "source": [
        "noisy_moons = make_moons(n_samples=1000, noise=0.1, random_state=0)"
      ],
      "execution_count": 0,
      "outputs": []
    },
    {
      "cell_type": "code",
      "metadata": {
        "id": "0tcCptvWsZt_",
        "colab_type": "code",
        "colab": {}
      },
      "source": [
        "X, y = noisy_moons\n",
        "y = y.reshape(-1, 1)"
      ],
      "execution_count": 0,
      "outputs": []
    },
    {
      "cell_type": "code",
      "metadata": {
        "id": "10dRbpuaCdEa",
        "colab_type": "code",
        "outputId": "83ab0aca-bdc1-4a7f-802e-9a45a666695a",
        "colab": {
          "base_uri": "https://localhost:8080/",
          "height": 282
        }
      },
      "source": [
        "# Visualize the data:\n",
        "plt.scatter(X[:, 0], X[:, 1], c=y, s=40, cmap=plt.cm.Spectral)"
      ],
      "execution_count": 21,
      "outputs": [
        {
          "output_type": "execute_result",
          "data": {
            "text/plain": [
              "<matplotlib.collections.PathCollection at 0x7efe0ccf58d0>"
            ]
          },
          "metadata": {
            "tags": []
          },
          "execution_count": 21
        },
        {
          "output_type": "display_data",
          "data": {
            "image/png": "[encoded data removed]",
            "text/plain": [
              "<Figure size 432x288 with 1 Axes>"
            ]
          },
          "metadata": {
            "tags": [],
            "needs_background": "light"
          }
        }
      ]
    },
    {
      "cell_type": "code",
      "metadata": {
        "id": "o2rHE36ns7Zp",
        "colab_type": "code",
        "outputId": "993a357c-b702-49be-a619-fbf622e8a302",
        "colab": {
          "base_uri": "https://localhost:8080/",
          "height": 50
        }
      },
      "source": [
        "print(X.shape)\n",
        "print(y.shape)"
      ],
      "execution_count": 22,
      "outputs": [
        {
          "output_type": "stream",
          "text": [
            "(1000, 2)\n",
            "(1000, 1)\n"
          ],
          "name": "stdout"
        }
      ]
    },
    {
      "cell_type": "code",
      "metadata": {
        "id": "LrWNgpWYZ4ag",
        "colab_type": "code",
        "colab": {}
      },
      "source": [
        "X_train, X_test, y_train, y_test = train_test_split(X, y, test_size=0.3, random_state=0)"
      ],
      "execution_count": 0,
      "outputs": []
    },
    {
      "cell_type": "code",
      "metadata": {
        "id": "t3hdsPHb30s1",
        "colab_type": "code",
        "colab": {}
      },
      "source": [
        "epochs = 10000\n",
        "learning_rate = 0.01\n",
        "hidden_nodes = 50\n",
        "\n",
        "nn_params = initialize_nn(X, y, hidden_nodes=hidden_nodes, random_state=0)"
      ],
      "execution_count": 0,
      "outputs": []
    },
    {
      "cell_type": "code",
      "metadata": {
        "id": "PNx2JujiIvhG",
        "colab_type": "code",
        "outputId": "c4263d79-e0cc-4938-b30e-ccc8576af241",
        "colab": {
          "base_uri": "https://localhost:8080/",
          "height": 202
        }
      },
      "source": [
        "history = []\n",
        "\n",
        "for i in range(epochs+1):\n",
        "\n",
        "  result = forward_prop(X_train, nn_params, 'relu')\n",
        "\n",
        "  loss = calculate_loss(result['A2'], y_train)\n",
        "  history.append(loss)\n",
        "\n",
        "  updates = backward_prop(X_train, y_train, nn_params, result, learning_rate=0.01, activation='relu')\n",
        "\n",
        "  nn_params = update_weights(nn_params, updates, learning_rate)\n",
        "\n",
        "  if i%(epochs/10)==0:\n",
        "    print('Epoch: {}\\tLoss: {:.6f}\\tTrain Accuracy: {:.3f}\\tTest Accuracy: {:.3f}'.format(i, loss, accuracy_score(y_train, predict(nn_params, X_train, y_train)), accuracy_score(y_test, predict(nn_params, X_test, y_test))))"
      ],
      "execution_count": 25,
      "outputs": [
        {
          "output_type": "stream",
          "text": [
            "Epoch: 0\tLoss: 1.854149\tTrain Accuracy: 0.493\tTest Accuracy: 0.517\n",
            "Epoch: 1000\tLoss: 0.165817\tTrain Accuracy: 0.933\tTest Accuracy: 0.917\n",
            "Epoch: 2000\tLoss: 0.119106\tTrain Accuracy: 0.969\tTest Accuracy: 0.950\n",
            "Epoch: 3000\tLoss: 0.093612\tTrain Accuracy: 0.980\tTest Accuracy: 0.963\n",
            "Epoch: 4000\tLoss: 0.076807\tTrain Accuracy: 0.984\tTest Accuracy: 0.977\n",
            "Epoch: 5000\tLoss: 0.064912\tTrain Accuracy: 0.987\tTest Accuracy: 0.980\n",
            "Epoch: 6000\tLoss: 0.055976\tTrain Accuracy: 0.991\tTest Accuracy: 0.983\n",
            "Epoch: 7000\tLoss: 0.049052\tTrain Accuracy: 0.993\tTest Accuracy: 0.983\n",
            "Epoch: 8000\tLoss: 0.043558\tTrain Accuracy: 0.994\tTest Accuracy: 0.990\n",
            "Epoch: 9000\tLoss: 0.039085\tTrain Accuracy: 0.994\tTest Accuracy: 0.997\n",
            "Epoch: 10000\tLoss: 0.035419\tTrain Accuracy: 0.996\tTest Accuracy: 0.997\n"
          ],
          "name": "stdout"
        }
      ]
    },
    {
      "cell_type": "code",
      "metadata": {
        "id": "yiQ2JwS5h_cu",
        "colab_type": "code",
        "outputId": "5258eb27-9fa7-4118-f5b9-5c7cb3d43954",
        "colab": {
          "base_uri": "https://localhost:8080/",
          "height": 279
        }
      },
      "source": [
        "# Plotting whole data\n",
        "\n",
        "plot_decision_boundary(lambda x: predict(nn_params, x, y), X.T, y.T)"
      ],
      "execution_count": 26,
      "outputs": [
        {
          "output_type": "display_data",
          "data": {
            "image/png": "[encoded data removed]",
            "text/plain": [
              "<Figure size 432x288 with 1 Axes>"
            ]
          },
          "metadata": {
            "tags": [],
            "needs_background": "light"
          }
        }
      ]
    },
    {
      "cell_type": "code",
      "metadata": {
        "id": "QEKYvlepcGmT",
        "colab_type": "code",
        "outputId": "f94557e1-438f-4d81-bfe0-1af7c106a593",
        "colab": {
          "base_uri": "https://localhost:8080/",
          "height": 279
        }
      },
      "source": [
        "# Plotting train data\n",
        "\n",
        "plot_decision_boundary(lambda x: predict(nn_params, x, y), X_train.T, y_train.T)"
      ],
      "execution_count": 27,
      "outputs": [
        {
          "output_type": "display_data",
          "data": {
            "image/png": "[encoded data removed]",
            "text/plain": [
              "<Figure size 432x288 with 1 Axes>"
            ]
          },
          "metadata": {
            "tags": [],
            "needs_background": "light"
          }
        }
      ]
    },
    {
      "cell_type": "code",
      "metadata": {
        "id": "jHyfjWIYcK9o",
        "colab_type": "code",
        "outputId": "e8675beb-10c6-445b-e135-1f4e388eed6d",
        "colab": {
          "base_uri": "https://localhost:8080/",
          "height": 279
        }
      },
      "source": [
        "# Plotting test data\n",
        "\n",
        "plot_decision_boundary(lambda x: predict(nn_params, x, y), X_test.T, y_test.T)"
      ],
      "execution_count": 28,
      "outputs": [
        {
          "output_type": "display_data",
          "data": {
            "image/png": "[encoded data removed]",
            "text/plain": [
              "<Figure size 432x288 with 1 Axes>"
            ]
          },
          "metadata": {
            "tags": [],
            "needs_background": "light"
          }
        }
      ]
    }
  ]
}