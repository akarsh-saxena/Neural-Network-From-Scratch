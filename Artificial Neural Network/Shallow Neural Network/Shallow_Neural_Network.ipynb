{
  "nbformat": 4,
  "nbformat_minor": 0,
  "metadata": {
    "colab": {
      "name": "Shallow Neural Network.ipynb",
      "provenance": [],
      "collapsed_sections": [],
      "machine_shape": "hm"
    },
    "kernelspec": {
      "name": "python3",
      "display_name": "Python 3"
    }
  },
  "cells": [
    {
      "cell_type": "code",
      "metadata": {
        "id": "NoHhKacsoEpc",
        "colab_type": "code",
        "colab": {}
      },
      "source": [
        "import numpy as np\n",
        "from scipy.special import xlogy\n",
        "import pandas as pd\n",
        "import matplotlib.pyplot as plt\n",
        "from sklearn.metrics import accuracy_score\n",
        "from sklearn.datasets import make_moons"
      ],
      "execution_count": 0,
      "outputs": []
    },
    {
      "cell_type": "code",
      "metadata": {
        "id": "Sgjv4Fl2nzcp",
        "colab_type": "code",
        "colab": {}
      },
      "source": [
        "def relu(Z):\n",
        "\n",
        "  \"\"\"Applies relu function to an array/value\n",
        "\n",
        "    Arguments\n",
        "    ---------\n",
        "    Z: float/int/array_like\n",
        "      Original Value\n",
        "\n",
        "    Returns\n",
        "    -------\n",
        "    A: same shape as input\n",
        "      Value after applying relu function\n",
        "  \"\"\"\n",
        "  \n",
        "  return np.maximum(Z, 0)"
      ],
      "execution_count": 0,
      "outputs": []
    },
    {
      "cell_type": "code",
      "metadata": {
        "id": "h5hVTQHOozHZ",
        "colab_type": "code",
        "colab": {}
      },
      "source": [
        "def relu_prime(Z):\n",
        "  \n",
        "  \"\"\"Applies differentiation of relu function to an array/value\n",
        "\n",
        "    Arguments\n",
        "    ---------\n",
        "    Z: float/int/array_like\n",
        "      Original Value\n",
        "\n",
        "    Returns\n",
        "    -------\n",
        "    A: same shape as input\n",
        "      Value after applying diff of relu function\n",
        "  \"\"\"\n",
        "\n",
        "  return (Z>0).astype(Z.dtype)"
      ],
      "execution_count": 0,
      "outputs": []
    },
    {
      "cell_type": "code",
      "metadata": {
        "id": "IgIQCPTo6zUz",
        "colab_type": "code",
        "colab": {}
      },
      "source": [
        "def sigmoid(Z):\n",
        "\n",
        "  \"\"\"Applies sigmoid function to an array/value\n",
        "\n",
        "    Arguments\n",
        "    ---------\n",
        "    Z: float/int/array_like\n",
        "      Original Value\n",
        "\n",
        "    Returns\n",
        "    -------\n",
        "    A: same shape as input\n",
        "      Value after applying sigmoid function\n",
        "  \"\"\"    \n",
        "  \n",
        "  return 1/(1+np.power(np.e, -Z))"
      ],
      "execution_count": 0,
      "outputs": []
    },
    {
      "cell_type": "code",
      "metadata": {
        "id": "4v3HglRMPZN8",
        "colab_type": "code",
        "colab": {}
      },
      "source": [
        "def sigmoid_prime(Z):\n",
        "\n",
        "  \"\"\"Applies differentiation of sigmoid function to an array/value\n",
        "\n",
        "    Arguments\n",
        "    ---------\n",
        "    Z: float/int/array_like\n",
        "      Original Value\n",
        "\n",
        "    Returns\n",
        "    -------\n",
        "    A: same shape as input\n",
        "      Value after applying diff of sigmoid function\n",
        "  \"\"\"\n",
        "  \n",
        "  return (1-np.power(Z, 2))"
      ],
      "execution_count": 0,
      "outputs": []
    },
    {
      "cell_type": "code",
      "metadata": {
        "id": "2ucJIk8HtZP_",
        "colab_type": "code",
        "colab": {}
      },
      "source": [
        "def initialize_nn(X, y, hidden_nodes=4):\n",
        "\n",
        "  \"\"\"Initializes random weights and bias\n",
        "\n",
        "  Arguments\n",
        "  ---------\n",
        "  X: array-like\n",
        "    Train Features\n",
        "  y: array-like\n",
        "    Train Labels\n",
        "  hidden_nodes: int\n",
        "    Number of nodes in hidden layer\n",
        "\n",
        "  Returns\n",
        "  -------\n",
        "  dict\n",
        "    Contains the randomly initialized weights and bias arrays\n",
        "\n",
        "    The keys for weights and bias arrays in the dict are 'W1', 'b1', 'W2' and 'b2'\n",
        "  \"\"\"\n",
        "\n",
        "  n_x = X.shape[1]\n",
        "  n_h = hidden_nodes\n",
        "  n_y = y.shape[1]\n",
        "\n",
        "  # W1 = np.random.randn(n_x, n_h) * 0.001\n",
        "  # b1 = np.zeros((n_h, 1))\n",
        "  # W2 = np.random.randn(n_h, n_y) * 0.001\n",
        "  # b2 = np.zeros((n_y, 1))\n",
        "\n",
        "  W1 = np.random.randn(n_x, n_h)\n",
        "  b1 = np.zeros((1, n_h))\n",
        "  W2 = np.random.randn(n_h, n_y)\n",
        "  b2 = np.zeros((1, n_y))\n",
        "\n",
        "  params = {\n",
        "      'W1' : W1,\n",
        "      'b1' : b1,\n",
        "      'W2' : W2,\n",
        "      'b2' : b2\n",
        "  }\n",
        "\n",
        "  return params"
      ],
      "execution_count": 0,
      "outputs": []
    },
    {
      "cell_type": "code",
      "metadata": {
        "id": "6srF1C1O4FdR",
        "colab_type": "code",
        "colab": {}
      },
      "source": [
        "def forward_prop(X, nn_params, activation='relu'):\n",
        "\n",
        "  \"\"\"Performs forward propagation and calculates output value\n",
        "\n",
        "    Arguments\n",
        "    ---------\n",
        "    X: array_like\n",
        "      Data\n",
        "    nn_params: dictionary\n",
        "      Parameter dict contaning weights and biases\n",
        "    activation: string\n",
        "      'relu' or 'tanh' activation\n",
        "\n",
        "    Returns\n",
        "    -------\n",
        "    dict\n",
        "      Dictionary contaning Z's and A's\n",
        "  \"\"\"\n",
        "\n",
        "  W1 = nn_params['W1']\n",
        "  b1 = nn_params['b1']\n",
        "  W2 = nn_params['W2']\n",
        "  b2 = nn_params['b2']\n",
        "\n",
        "  Z1 = np.dot(X, W1) + b1    # X.W1+b1 because we have taken rows as a record and columns as features\n",
        "  if activation=='relu':\n",
        "    A1 = relu(Z1)\n",
        "  elif activation=='tanh':\n",
        "    A1 = np.tanh(Z1)\n",
        "  Z2 = np.dot(A1, W2) + b2\n",
        "  A2 = sigmoid(Z2)\n",
        "\n",
        "  result = {\n",
        "      'Z1': Z1,\n",
        "      'A1': A1,\n",
        "      'Z2': Z2,\n",
        "      'A2': A2\n",
        "  }\n",
        "\n",
        "  return result"
      ],
      "execution_count": 0,
      "outputs": []
    },
    {
      "cell_type": "code",
      "metadata": {
        "id": "JVJ6--pBHpNQ",
        "colab_type": "code",
        "colab": {}
      },
      "source": [
        "def calculate_loss(A2, y):\n",
        "\n",
        "  \"\"\"Calculate the entropy loss\n",
        "\n",
        "    Arguments\n",
        "    ---------\n",
        "    A2: array_like\n",
        "      Output of the last layer \n",
        "    y: array-like\n",
        "      True lables\n",
        "\n",
        "    Returns\n",
        "    -------\n",
        "    loss: float\n",
        "      Entropy loss\n",
        "  \"\"\"\n",
        "\n",
        "  m = y.shape[0]\n",
        "  return np.squeeze(-(1./m)*np.sum(np.multiply(y, np.log(A2))+np.multiply(np.log(1-A2), 1-y)))     # Squeeze will convert [[cost]] to cost float variable"
      ],
      "execution_count": 0,
      "outputs": []
    },
    {
      "cell_type": "code",
      "metadata": {
        "id": "DMii8LFr7SyT",
        "colab_type": "code",
        "colab": {}
      },
      "source": [
        "def backward_prop(X, y, nn_params, cache, learning_rate=0.001, activation='relu'):\n",
        "  \n",
        "  \"\"\"Performs forward propagation and calculates output value for a layer\n",
        "\n",
        "    Arguments\n",
        "    ---------\n",
        "    X: array_like\n",
        "      Data\n",
        "    y: array_like\n",
        "      True labels\n",
        "    cache: dictionary\n",
        "      Dictionary containing 'z' and 'a'\n",
        "\n",
        "    Returns\n",
        "    -------\n",
        "    dict\n",
        "      Dictionary containing gradients 'dz', 'dw' and 'db'\n",
        "  \"\"\"\n",
        "\n",
        "  W1 = nn_params['W1']\n",
        "  b1 = nn_params['b1']\n",
        "  W2 = nn_params['W2']\n",
        "  b2 = nn_params['b2']\n",
        "\n",
        "  Z1 = cache['Z1']\n",
        "  A1 = cache['A1']\n",
        "  Z2 = cache['Z2']\n",
        "  A2 = cache['A2']\n",
        "\n",
        "  m = X.shape[0]\n",
        "\n",
        "  dz2 = A2 - y\n",
        "  dw2 = (1./m)*np.dot(A1.T, dz2)\n",
        "  db2 = (1./m)*np.sum(dz2, axis=0, keepdims=True)\n",
        "  if activation=='relu':\n",
        "    dz1 = np.dot(dz2, W2.T) * relu_prime(A1)\n",
        "  else:\n",
        "    dz1 = np.dot(dz2, W2.T) * (1-np.power(A1, 2))\n",
        "  dw1 = (1./m)*np.dot(X.T, dz1)\n",
        "  db1 = (1./m)*np.sum(dz1, axis=0, keepdims=True)\n",
        "\n",
        "  updates = {\n",
        "    'dw1': dw1,\n",
        "    'db1': db1,\n",
        "    'dw2': dw2,\n",
        "    'db2': db2\n",
        "  }\n",
        "\n",
        "  return updates"
      ],
      "execution_count": 0,
      "outputs": []
    },
    {
      "cell_type": "code",
      "metadata": {
        "id": "MtlrCngkx5n7",
        "colab_type": "code",
        "colab": {}
      },
      "source": [
        "def update_weights(nn_params, updates, learning_rate=0.01):\n",
        "\n",
        "  \"\"\"Performs forward propagation and calculates output value for a layer\n",
        "\n",
        "    Arguments\n",
        "    ---------\n",
        "    nn_params: dict\n",
        "      Dictionary containing weights and biases\n",
        "    updates: dict\n",
        "      Dictionary containing 'dw' and 'db'\n",
        "    learning_rate: int, float\n",
        "      Learning rate for the weight update\n",
        "\n",
        "    Returns\n",
        "    -------\n",
        "    dict\n",
        "      Dictionary containing updated weights and biases\n",
        "\n",
        "      The keys for weights and bias arrays in the dict are 'W1', 'b1', 'W2' and 'b2'\n",
        "  \"\"\"\n",
        "\n",
        "  W1 = nn_params['W1']\n",
        "  b1 = nn_params['b1']\n",
        "  W2 = nn_params['W2']\n",
        "  b2 = nn_params['b2']\n",
        "\n",
        "  dw1 = updates['dw1']\n",
        "  db1 = updates['db1']\n",
        "  dw2 = updates['dw2']\n",
        "  db2 = updates['db2']\n",
        "\n",
        "  W1 = W1 - learning_rate*dw1\n",
        "  b1 = b1 - learning_rate*db1\n",
        "  W2 = W2 - learning_rate*dw2\n",
        "  b2 = b2 - learning_rate*db2\n",
        "\n",
        "  final_result = {\n",
        "      'W1': W1,\n",
        "      'b1': b1,\n",
        "      'W2': W2,\n",
        "      'b2': b2\n",
        "  }\n",
        "\n",
        "  return final_result"
      ],
      "execution_count": 0,
      "outputs": []
    },
    {
      "cell_type": "code",
      "metadata": {
        "id": "NfxWKg4ecz6C",
        "colab_type": "code",
        "colab": {}
      },
      "source": [
        "def predict(parameters, X, y):\n",
        "\n",
        "    \"\"\"\n",
        "    Using the learned parameters, predicts a class for each example in X\n",
        "    \n",
        "    Arguments\n",
        "    ---------\n",
        "    parameters: dict\n",
        "      Dictionary containing weights and biases\n",
        "    X: array_like\n",
        "      Data\n",
        "    y: array_like\n",
        "      True Labels\n",
        "    \n",
        "    Returns\n",
        "    -------\n",
        "    predictions: array_like\n",
        "      Vector of predictions of our model\n",
        "    \"\"\"\n",
        "    \n",
        "    cache = forward_prop(X, parameters, 'relu')\n",
        "    predictions = cache['A2'] > 0.5\n",
        "    \n",
        "    return predictions"
      ],
      "execution_count": 0,
      "outputs": []
    },
    {
      "cell_type": "code",
      "metadata": {
        "id": "wwxOM8sgFVsb",
        "colab_type": "code",
        "colab": {}
      },
      "source": [
        "def plot_decision_boundary(model, X, y):\n",
        "\n",
        "    \"\"\"\n",
        "    Plots decision boundary for a dataset and model\n",
        "    \n",
        "    Arguments\n",
        "    ---------\n",
        "    model: function\n",
        "      Function for getting predictions\n",
        "    X: array_like\n",
        "      Data\n",
        "    y: array_like\n",
        "      True Labels\n",
        "    \"\"\"\n",
        "\n",
        "    # Set min and max values and give it some padding\n",
        "    x_min, x_max = X[0, :].min() - 1, X[0, :].max() + 1\n",
        "    y_min, y_max = X[1, :].min() - 1, X[1, :].max() + 1\n",
        "    h = 0.01\n",
        "    # Generate a grid of points with distance h between them\n",
        "    xx, yy = np.meshgrid(np.arange(x_min, x_max, h), np.arange(y_min, y_max, h))\n",
        "    # Predict the function value for the whole grid\n",
        "    Z = model(np.c_[xx.ravel(), yy.ravel()])\n",
        "    Z = Z.reshape(xx.shape)\n",
        "    # Plot the contour and training examples\n",
        "    plt.contourf(xx, yy, Z, cmap=plt.cm.Spectral)\n",
        "    plt.ylabel('x2')\n",
        "    plt.xlabel('x1')\n",
        "    plt.scatter(X[0, :], X[1, :], c=y, cmap=plt.cm.Spectral)"
      ],
      "execution_count": 0,
      "outputs": []
    },
    {
      "cell_type": "code",
      "metadata": {
        "id": "KhBwZcZIB_pd",
        "colab_type": "code",
        "colab": {}
      },
      "source": [
        "noisy_moons = make_moons(n_samples=200, noise=0.2)"
      ],
      "execution_count": 0,
      "outputs": []
    },
    {
      "cell_type": "code",
      "metadata": {
        "id": "0tcCptvWsZt_",
        "colab_type": "code",
        "colab": {}
      },
      "source": [
        "X, y = noisy_moons\n",
        "y = y.reshape(-1, 1)"
      ],
      "execution_count": 0,
      "outputs": []
    },
    {
      "cell_type": "code",
      "metadata": {
        "id": "10dRbpuaCdEa",
        "colab_type": "code",
        "colab": {
          "base_uri": "https://localhost:8080/",
          "height": 282
        },
        "outputId": "c3ffc20f-e5cd-4cc3-95ff-7d4bfc6e1e55"
      },
      "source": [
        "# Visualize the data:\n",
        "plt.scatter(X[:, 0], X[:, 1], c=y, s=40, cmap=plt.cm.Spectral)"
      ],
      "execution_count": 16,
      "outputs": [
        {
          "output_type": "execute_result",
          "data": {
            "text/plain": [
              "<matplotlib.collections.PathCollection at 0x7f081d3e4fd0>"
            ]
          },
          "metadata": {
            "tags": []
          },
          "execution_count": 16
        },
        {
          "output_type": "display_data",
          "data": {
            "image/png": "[encoded data removed]",
            "text/plain": [
              "<Figure size 432x288 with 1 Axes>"
            ]
          },
          "metadata": {
            "tags": [],
            "needs_background": "light"
          }
        }
      ]
    },
    {
      "cell_type": "code",
      "metadata": {
        "id": "o2rHE36ns7Zp",
        "colab_type": "code",
        "outputId": "06d0bb6c-d9bf-45f1-fdb0-f2a8203bdc31",
        "colab": {
          "base_uri": "https://localhost:8080/",
          "height": 50
        }
      },
      "source": [
        "print(X.shape)\n",
        "print(y.shape)"
      ],
      "execution_count": 17,
      "outputs": [
        {
          "output_type": "stream",
          "text": [
            "(200, 2)\n",
            "(200, 1)\n"
          ],
          "name": "stdout"
        }
      ]
    },
    {
      "cell_type": "code",
      "metadata": {
        "id": "t3hdsPHb30s1",
        "colab_type": "code",
        "colab": {}
      },
      "source": [
        "np.random.seed(3)\n",
        "\n",
        "nn_params = initialize_nn(X, y, hidden_nodes=25)"
      ],
      "execution_count": 0,
      "outputs": []
    },
    {
      "cell_type": "code",
      "metadata": {
        "id": "PNx2JujiIvhG",
        "colab_type": "code",
        "outputId": "f6b32101-a377-4a07-c7b6-a9301190aadb",
        "colab": {
          "base_uri": "https://localhost:8080/",
          "height": 185
        }
      },
      "source": [
        "history = []\n",
        "\n",
        "for i in range(25000):\n",
        "\n",
        "  result = forward_prop(X, nn_params, 'relu')\n",
        "\n",
        "  loss = calculate_loss(result['A2'], y)\n",
        "  history.append(loss)\n",
        "\n",
        "  updates = backward_prop(X, y, nn_params, result, learning_rate=0.01, activation='relu')\n",
        "\n",
        "  nn_params = update_weights(nn_params, updates, 0.01)\n",
        "\n",
        "  if i%2500==0:\n",
        "    print('Epoch: {}\\tLoss: {}\\tAccuracy:{}'.format(i, loss, accuracy_score(y, predict(nn_params, X, y))))"
      ],
      "execution_count": 19,
      "outputs": [
        {
          "output_type": "stream",
          "text": [
            "Epoch: 0\tLoss: 1.9066348204293184\tAccuracy:0.5\n",
            "Epoch: 2500\tLoss: 0.180387299131624\tAccuracy:0.92\n",
            "Epoch: 5000\tLoss: 0.1359659874560818\tAccuracy:0.945\n",
            "Epoch: 7500\tLoss: 0.10980537196168748\tAccuracy:0.95\n",
            "Epoch: 10000\tLoss: 0.09204972346253007\tAccuracy:0.975\n",
            "Epoch: 12500\tLoss: 0.07928338210331413\tAccuracy:0.985\n",
            "Epoch: 15000\tLoss: 0.0698325282268611\tAccuracy:0.985\n",
            "Epoch: 17500\tLoss: 0.06258409503854107\tAccuracy:0.985\n",
            "Epoch: 20000\tLoss: 0.056664711168369374\tAccuracy:0.985\n",
            "Epoch: 22500\tLoss: 0.051611980104390914\tAccuracy:0.99\n"
          ],
          "name": "stdout"
        }
      ]
    },
    {
      "cell_type": "code",
      "metadata": {
        "id": "yiQ2JwS5h_cu",
        "colab_type": "code",
        "outputId": "bb1bef0a-279c-46f0-9a58-c5f62950a36a",
        "colab": {
          "base_uri": "https://localhost:8080/",
          "height": 279
        }
      },
      "source": [
        "plot_decision_boundary(lambda x: predict(nn_params, x, y), X.T, y.T)"
      ],
      "execution_count": 20,
      "outputs": [
        {
          "output_type": "display_data",
          "data": {
            "image/png": "[encoded data removed]",
            "text/plain": [
              "<Figure size 432x288 with 1 Axes>"
            ]
          },
          "metadata": {
            "tags": [],
            "needs_background": "light"
          }
        }
      ]
    }
  ]
}